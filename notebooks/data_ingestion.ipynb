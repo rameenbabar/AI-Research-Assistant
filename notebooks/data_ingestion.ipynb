{
 "cells": [
  {
   "cell_type": "code",
   "execution_count": null,
   "id": "abf00ce2",
   "metadata": {},
   "outputs": [],
   "source": [
    "from langchain_community.document_loaders import ArxivLoader\n",
    "from langchain_experimental.text_splitter import SemanticChunker\n",
    "from langchain.embeddings import HuggingFaceEmbeddings\n",
    "from langchain_qdrant import FastEmbedSparse, QdrantVectorStore, RetrievalMode\n",
    "import re, textwrap, pprint, os"
   ]
  },
  {
   "cell_type": "code",
   "execution_count": null,
   "id": "4df53000",
   "metadata": {},
   "outputs": [],
   "source": [
    "loader = ArxivLoader(\n",
    "    query=\"Artificial intelligence and machine learning\",\n",
    "    top_k_results=10,\n",
    "    load_max_docs=20,\n",
    ")\n",
    "docs      = loader.load()\n",
    "summ_docs = loader.get_summaries_as_docs()\n",
    "print(f\"Total docs loaded: {len(docs)}\")"
   ]
  },
  {
   "cell_type": "code",
   "execution_count": null,
   "id": "b353b046",
   "metadata": {},
   "outputs": [],
   "source": [
    "print(\"\\n── summaries ──\")\n",
    "for i, summ in enumerate(summ_docs, start=1):\n",
    "    print(f\"\\nPaper {i} metadata keys: {list(summ.metadata.keys())}\")\n",
    "\n",
    "for raw_doc, summ in zip(docs, summ_docs):\n",
    "    url = None\n",
    "\n",
    "    for v in summ.metadata.values():\n",
    "        if isinstance(v, str) and re.match(r\"^https?://\", v):\n",
    "            url = v\n",
    "            break\n",
    "\n",
    "    if url is None and summ.metadata.get(\"id\"):\n",
    "        url = f\"https://arxiv.org/abs/{summ.metadata['id']}\"\n",
    "\n",
    "    raw_doc.metadata[\"url\"] = url or \"Unknown\"\n",
    "\n",
    "print(\"\\nExample enriched metadata for doc #1:\")\n",
    "pprint.pprint(docs[0].metadata)"
   ]
  },
  {
   "cell_type": "code",
   "execution_count": null,
   "id": "698204e3",
   "metadata": {},
   "outputs": [],
   "source": [
    "dense_embedder = HuggingFaceEmbeddings(\n",
    "    model_name=\"BAAI/bge-base-en-v1.5\",\n",
    "    model_kwargs={\"device\": \"cuda\"}\n",
    ")\n",
    "\n",
    "sparse_embedder = FastEmbedSparse(model_name=\"Qdrant/bm25\")"
   ]
  },
  {
   "cell_type": "code",
   "execution_count": null,
   "id": "11d0e016",
   "metadata": {},
   "outputs": [],
   "source": [
    "splitter = SemanticChunker(\n",
    "    embeddings=dense_embedder,\n",
    "    buffer_size=4,\n",
    "    breakpoint_threshold_type=\"gradient\",\n",
    "    min_chunk_size=5,\n",
    "    number_of_chunks=20,\n",
    ")"
   ]
  },
  {
   "cell_type": "code",
   "execution_count": null,
   "id": "ba9628fa",
   "metadata": {},
   "outputs": [],
   "source": [
    "all_chunks = []\n",
    "for doc in docs:\n",
    "    all_chunks.extend(splitter.split_documents([doc]))\n",
    "print(f\"Total semantic chunks generated: {len(all_chunks)}\")"
   ]
  },
  {
   "cell_type": "code",
   "execution_count": null,
   "id": "c80543a8",
   "metadata": {},
   "outputs": [],
   "source": [
    "QDRANT_URL=\"\"\n",
    "QDRANT_API_KEY=\"\""
   ]
  },
  {
   "cell_type": "code",
   "execution_count": null,
   "id": "3ad6abfd",
   "metadata": {},
   "outputs": [],
   "source": [
    "qdrant_store = QdrantVectorStore.from_documents(\n",
    "    documents=all_chunks,\n",
    "    embedding=dense_embedder,\n",
    "    sparse_embedding=sparse_embedder,\n",
    "    retrieval_mode=RetrievalMode.HYBRID,\n",
    "    url=QDRANT_URL,\n",
    "    api_key=QDRANT_API_KEY,\n",
    "    prefer_grpc=True,\n",
    "    collection_name=\"axRiv_research_papers\",\n",
    ")\n",
    "print(f\"Upserted {len(all_chunks)} chunks into Qdrant collection 'axRiv_research_papers'.\")\n"
   ]
  }
 ],
 "metadata": {
  "language_info": {
   "name": "python"
  }
 },
 "nbformat": 4,
 "nbformat_minor": 5
}
